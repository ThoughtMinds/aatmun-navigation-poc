{
 "cells": [
  {
   "cell_type": "markdown",
   "id": "cf3a0bb7-245b-4ed4-aa13-9de5c6f9c902",
   "metadata": {},
   "source": [
    "### Connec to Database"
   ]
  },
  {
   "cell_type": "code",
   "execution_count": 4,
   "id": "5d394962-d606-4e66-a392-5f1a2fb5495e",
   "metadata": {},
   "outputs": [],
   "source": [
    "import sqlite3"
   ]
  },
  {
   "cell_type": "code",
   "execution_count": 7,
   "id": "3bab3b1d-4f0c-4ae3-84d9-d4ea437abeb2",
   "metadata": {},
   "outputs": [],
   "source": [
    "DB_PATH = \"../data/sqlite/sample/chinook.db\"\n",
    "\n",
    "con = sqlite3.connect(DB_PATH)"
   ]
  },
  {
   "cell_type": "code",
   "execution_count": 9,
   "id": "ef29e785-5323-446e-99ed-b9ad635770ec",
   "metadata": {},
   "outputs": [],
   "source": [
    "cur = con.cursor()"
   ]
  },
  {
   "cell_type": "markdown",
   "id": "0439a0b4-a5ef-4605-957d-6b4e598c9cc7",
   "metadata": {},
   "source": [
    "### Sample query"
   ]
  },
  {
   "cell_type": "code",
   "execution_count": 10,
   "id": "bce96100-eacb-43c6-8e73-f4eb982ca434",
   "metadata": {},
   "outputs": [
    {
     "data": {
      "text/plain": [
       "<sqlite3.Cursor at 0x7fda88492cc0>"
      ]
     },
     "execution_count": 10,
     "metadata": {},
     "output_type": "execute_result"
    }
   ],
   "source": [
    "cur.execute(\"SELECT\t1 + 1;\")"
   ]
  },
  {
   "cell_type": "code",
   "execution_count": 11,
   "id": "72531b92-9991-474a-8128-dd6cf4de0005",
   "metadata": {},
   "outputs": [
    {
     "data": {
      "text/plain": [
       "(2,)"
      ]
     },
     "execution_count": 11,
     "metadata": {},
     "output_type": "execute_result"
    }
   ],
   "source": [
    "cur.fetchone()"
   ]
  },
  {
   "cell_type": "markdown",
   "id": "9632d95a-e91f-426b-b7f3-9519dfadbc88",
   "metadata": {},
   "source": [
    "### Basic SQL Queries"
   ]
  },
  {
   "cell_type": "code",
   "execution_count": null,
   "id": "ea1d93b7-ed36-4b06-b520-d06e6e860872",
   "metadata": {},
   "outputs": [],
   "source": []
  }
 ],
 "metadata": {
  "kernelspec": {
   "display_name": "Python 3 (ipykernel)",
   "language": "python",
   "name": "python3"
  },
  "language_info": {
   "codemirror_mode": {
    "name": "ipython",
    "version": 3
   },
   "file_extension": ".py",
   "mimetype": "text/x-python",
   "name": "python",
   "nbconvert_exporter": "python",
   "pygments_lexer": "ipython3",
   "version": "3.10.5"
  }
 },
 "nbformat": 4,
 "nbformat_minor": 5
}
