{
 "cells": [
  {
   "cell_type": "code",
   "execution_count": 1,
   "id": "39a10344-2538-4bf8-b5d9-0a029ae9a6e3",
   "metadata": {},
   "outputs": [],
   "source": [
    "%run 2.Navigation_FAISS_Index.ipynb"
   ]
  },
  {
   "cell_type": "markdown",
   "id": "3c845012-4c31-483e-b7e5-50b149d49c26",
   "metadata": {},
   "source": [
    "## Get Context from Retriever"
   ]
  },
  {
   "cell_type": "code",
   "execution_count": 14,
   "id": "95deba56-9d10-49c5-a8af-207f895cc427",
   "metadata": {},
   "outputs": [],
   "source": [
    "from typing import List\n",
    "\n",
    "def convert_to_context(docs: List[Document]):\n",
    "    context = \"\"\n",
    "    for doc in docs:\n",
    "        content, id = doc.page_content, doc.metadata[\"id\"]\n",
    "        context += f\"{id} - {content}\\n###########\\n\"\n",
    "\n",
    "    return context"
   ]
  },
  {
   "cell_type": "code",
   "execution_count": 15,
   "id": "7fc18f98-d1cb-4793-b971-5691abdd228d",
   "metadata": {},
   "outputs": [
    {
     "data": {
      "text/plain": [
       "Document(id='cc794c58-08bc-4fe8-b138-c319c5302fa7', metadata={'id': 1}, page_content='Directs the user to the login page to authenticate and access the application.')"
      ]
     },
     "execution_count": 15,
     "metadata": {},
     "output_type": "execute_result"
    }
   ],
   "source": [
    "results = retriever.invoke(\"Take me to login page\")\n",
    "results[0]"
   ]
  },
  {
   "cell_type": "code",
   "execution_count": 16,
   "id": "713bf995-47f0-4d49-b083-e060b6e5e509",
   "metadata": {},
   "outputs": [],
   "source": [
    "context = convert_to_context(docs=results)"
   ]
  },
  {
   "cell_type": "code",
   "execution_count": 17,
   "id": "430c420b-cd7f-46a6-8f95-41a5504cb760",
   "metadata": {},
   "outputs": [
    {
     "name": "stdout",
     "output_type": "stream",
     "text": [
      "1 - Directs the user to the login page to authenticate and access the application.\n",
      "###########\n",
      "9 - Takes the user to the user list page to view and manage user profiles.\n",
      "###########\n",
      "17 - Navigates to the user preview page to review user details before saving.\n",
      "###########\n",
      "16 - Directs to the page for adding a new user to the system.\n",
      "###########\n",
      "\n"
     ]
    }
   ],
   "source": [
    "print(context)"
   ]
  },
  {
   "cell_type": "markdown",
   "id": "a53e682b-abaa-4df3-9b3d-3c79fac047a8",
   "metadata": {},
   "source": [
    "## Design Prompt"
   ]
  },
  {
   "cell_type": "code",
   "execution_count": 30,
   "id": "5d460069-424d-4ec9-8617-a4c0b176bad7",
   "metadata": {},
   "outputs": [],
   "source": [
    "RAG_PROMPT = \"\"\"\n",
    "You are an navigation assistant. Compare the user query with the context to identify the most appropriate navigation.\n",
    "Each navigation option is separated by #####. Identify the most similar navigation.\n",
    "Return only the ID for the most similar navigation and nothing else.\n",
    "Query: {query}\n",
    "Context: {context}\n",
    "ID:\n",
    "\"\"\""
   ]
  },
  {
   "cell_type": "code",
   "execution_count": 31,
   "id": "6234e522-58de-4225-8efd-639a79502d58",
   "metadata": {},
   "outputs": [],
   "source": [
    "from langchain_core.prompts import PromptTemplate\n",
    "\n",
    "template = PromptTemplate.from_template(RAG_PROMPT)"
   ]
  },
  {
   "cell_type": "code",
   "execution_count": 32,
   "id": "ab2895b2-37dd-498d-a1b3-e76269b12ba5",
   "metadata": {},
   "outputs": [],
   "source": [
    "rag_chain = template | chat_model"
   ]
  },
  {
   "cell_type": "code",
   "execution_count": 37,
   "id": "b9154a99-e4ab-4323-8fec-e8d3e73a4420",
   "metadata": {},
   "outputs": [
    {
     "name": "stdout",
     "output_type": "stream",
     "text": [
      "[Document(id='35da70b4-8a4d-477e-ada3-d28946d9b167', metadata={'id': 24}, page_content='Takes the user to the issue preview screen to view details of a specific task or issue.'), Document(id='7f1c8982-71ac-4057-9e1f-a468eb5983b7', metadata={'id': 23}, page_content='Navigates to the issue screen to view a list of reported tasks or issues.'), Document(id='65ecc77e-804c-435a-a21f-18a958f52b45', metadata={'id': 25}, page_content='Directs to the issue add or edit screen to create or modify an issue.'), Document(id='31360829-c408-4f6c-9114-f75c08ca6016', metadata={'id': 26}, page_content='Navigates to the issue filter view to refine the list of tasks or issues.')]\n"
     ]
    },
    {
     "data": {
      "text/plain": [
       "'The most similar navigation is 23.'"
      ]
     },
     "execution_count": 37,
     "metadata": {},
     "output_type": "execute_result"
    }
   ],
   "source": [
    "QUERY = \"show issue screen\"\n",
    "\n",
    "results = retriever.invoke(QUERY)\n",
    "context = convert_to_context(docs=results)\n",
    "\n",
    "print(results)\n",
    "rag_chain.invoke({\"query\": QUERY, \"context\": context}).content"
   ]
  },
  {
   "cell_type": "code",
   "execution_count": 36,
   "id": "4c3b6526-8db6-40f3-9fe7-01344d17f4cb",
   "metadata": {},
   "outputs": [
    {
     "data": {
      "text/plain": [
       "[Document(id='5735f190-8364-4bf8-b756-f8b9a96069c2', metadata={'id': 40}, page_content='Directs to the quick scan summary screen to view scan results on the mobile app.'),\n",
       " Document(id='35da70b4-8a4d-477e-ada3-d28946d9b167', metadata={'id': 24}, page_content='Takes the user to the issue preview screen to view details of a specific task or issue.'),\n",
       " Document(id='9aac8a84-1253-4a04-98ed-e20ac1d2d30f', metadata={'id': 17}, page_content='Navigates to the user preview page to review user details before saving.'),\n",
       " Document(id='7f1c8982-71ac-4057-9e1f-a468eb5983b7', metadata={'id': 23}, page_content='Navigates to the issue screen to view a list of reported tasks or issues.')]"
      ]
     },
     "execution_count": 36,
     "metadata": {},
     "output_type": "execute_result"
    }
   ],
   "source": []
  },
  {
   "cell_type": "code",
   "execution_count": null,
   "id": "c3b18aa3-9647-47ab-9a79-029674dfdb84",
   "metadata": {},
   "outputs": [],
   "source": []
  }
 ],
 "metadata": {
  "kernelspec": {
   "display_name": "Python 3 (ipykernel)",
   "language": "python",
   "name": "python3"
  },
  "language_info": {
   "codemirror_mode": {
    "name": "ipython",
    "version": 3
   },
   "file_extension": ".py",
   "mimetype": "text/x-python",
   "name": "python",
   "nbconvert_exporter": "python",
   "pygments_lexer": "ipython3",
   "version": "3.10.5"
  }
 },
 "nbformat": 4,
 "nbformat_minor": 5
}
