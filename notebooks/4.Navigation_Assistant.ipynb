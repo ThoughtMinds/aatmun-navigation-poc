{
 "cells": [
  {
   "cell_type": "code",
   "execution_count": 1,
   "id": "d7ede11c-4a4c-4b6b-b24c-13601639fa93",
   "metadata": {},
   "outputs": [],
   "source": [
    "from os import chdir\n",
    "\n",
    "chdir(\"..\")\n",
    "\n",
    "from app.core.config import settings"
   ]
  },
  {
   "cell_type": "markdown",
   "id": "9036b4e4-435a-4040-a42e-7d4f00361c97",
   "metadata": {},
   "source": [
    "# LLM"
   ]
  },
  {
   "cell_type": "code",
   "execution_count": 2,
   "id": "aeb1e2be-4bb9-4a9b-be08-12af5f119c33",
   "metadata": {},
   "outputs": [],
   "source": [
    "from langchain_ollama.embeddings import OllamaEmbeddings\n",
    "from langchain_ollama.chat_models import ChatOllama\n",
    "\n",
    "chat_model = ChatOllama(\n",
    "    base_url=settings.OLLAMA_BASE_URL,\n",
    "    model=settings.OLLAMA_CHAT_MODEL,\n",
    "    temperature=0,\n",
    "    # seed=1234,\n",
    "    # num_ctx=500,\n",
    ")\n",
    "\n",
    "embeddings = OllamaEmbeddings(base_url=settings.OLLAMA_BASE_URL, model=settings.OLLAMA_EMBEDDINGS_MODEL)"
   ]
  },
  {
   "cell_type": "markdown",
   "id": "b0fe2b33-735e-4bdd-b529-c30a30368dc8",
   "metadata": {},
   "source": [
    "# Vector DB"
   ]
  },
  {
   "cell_type": "code",
   "execution_count": 3,
   "id": "9fe16cdb-8aea-4050-a7af-21037d7cb575",
   "metadata": {},
   "outputs": [],
   "source": [
    "from langchain_chroma import Chroma\n",
    "\n",
    "PERSIST_DIRECTORY = \"./data/vector_db/chroma/\"\n",
    "vectordb = Chroma(persist_directory=PERSIST_DIRECTORY, embedding_function=embeddings)"
   ]
  },
  {
   "cell_type": "code",
   "execution_count": 4,
   "id": "d4f8565f-dcec-4ad9-b0b1-c35c80bc2aa2",
   "metadata": {},
   "outputs": [],
   "source": [
    "retriever = vectordb.as_retriever()"
   ]
  },
  {
   "cell_type": "markdown",
   "id": "5f74b730-cbd2-4881-b6e7-ce02bc5ba920",
   "metadata": {},
   "source": [
    "# RAG"
   ]
  },
  {
   "cell_type": "code",
   "execution_count": 5,
   "id": "2f3c23b1-d222-4a21-a415-44fc77c42976",
   "metadata": {},
   "outputs": [],
   "source": [
    "from typing_extensions import List, TypedDict\n",
    "from langchain_core.documents import Document\n",
    "\n",
    "class State(TypedDict):\n",
    "    question: str\n",
    "    context: List[Document]\n",
    "    answer: str"
   ]
  },
  {
   "cell_type": "code",
   "execution_count": 30,
   "id": "7706fb7b-9259-44c3-9ac2-314d776edd8b",
   "metadata": {},
   "outputs": [],
   "source": [
    "from pydantic import BaseModel, field_validator\n",
    "\n",
    "class Navigation(BaseModel):\n",
    "    id: int\n",
    "    reasoning: str"
   ]
  },
  {
   "cell_type": "code",
   "execution_count": 31,
   "id": "48b7da9b-e228-4460-8678-197aa5c9e151",
   "metadata": {},
   "outputs": [],
   "source": [
    "chat_model_structured = chat_model.with_structured_output(Navigation, method=\"json_schema\")"
   ]
  },
  {
   "cell_type": "code",
   "execution_count": 32,
   "id": "289c796c-903d-481e-844d-5a1c59dea73a",
   "metadata": {},
   "outputs": [
    {
     "data": {
      "text/plain": [
       "Navigation(id=1, reasoning='test case')"
      ]
     },
     "execution_count": 32,
     "metadata": {},
     "output_type": "execute_result"
    }
   ],
   "source": [
    "chat_model_structured.invoke(\"Your ID is 1, reasoning is 'test case'\")"
   ]
  },
  {
   "cell_type": "code",
   "execution_count": 39,
   "id": "d076bc92-4494-425e-be8c-575ec25f98dc",
   "metadata": {},
   "outputs": [],
   "source": [
    "from langchain_core.prompts import PromptTemplate\n",
    "\n",
    "\n",
    "RAG_PROMPT = \"\"\"\n",
    "You are an navigation assistant. You are given a list of navigation options with their ID.\n",
    "Your task is to identify the option that is most similar to the user {query}\n",
    "Query: {query}\n",
    "Context: {context}\n",
    "Schema:\n",
    "{{\n",
    "\n",
    "    \"id\": ID,\n",
    "    \"reasoning\": <Reasoning for selecting this ID\n",
    "}}\n",
    "Output:\n",
    "\"\"\"\n",
    "\n",
    "template = PromptTemplate.from_template(RAG_PROMPT)\n",
    "\n",
    "rag_chain = template | chat_model_structured "
   ]
  },
  {
   "cell_type": "code",
   "execution_count": 40,
   "id": "e4c6a31f-47a8-41ae-b25a-eaaca0fe4080",
   "metadata": {},
   "outputs": [],
   "source": [
    "def retrieve(state: State):\n",
    "    retrieved_docs = vectordb.similarity_search(state[\"question\"])\n",
    "    return {\"context\": retrieved_docs}"
   ]
  },
  {
   "cell_type": "code",
   "execution_count": 41,
   "id": "0ff2d3f7-ceb4-4a4c-8c1f-e121a624b8d8",
   "metadata": {},
   "outputs": [],
   "source": [
    "def generate(state: State):\n",
    "    context = \"\"\n",
    "    for doc in state[\"context\"]:\n",
    "        context += f\"{doc.metadata['id']} - {doc.page_content} | \"\n",
    "\n",
    "    print(f\"Context: {context}\")\n",
    "    \n",
    "    response = rag_chain.invoke({\"query\": state[\"question\"], \"context\": context})\n",
    "    return {\"answer\": response}"
   ]
  },
  {
   "cell_type": "code",
   "execution_count": 42,
   "id": "6fcc039a-bae6-4ce9-a9c5-396714dfbc3f",
   "metadata": {},
   "outputs": [],
   "source": [
    "from langgraph.graph import START, StateGraph\n",
    "\n",
    "graph_builder = StateGraph(State).add_sequence([retrieve, generate])\n",
    "graph_builder.add_edge(START, \"retrieve\")\n",
    "graph = graph_builder.compile()"
   ]
  },
  {
   "cell_type": "code",
   "execution_count": 49,
   "id": "805b025f-631c-4095-bb5a-ffba115db768",
   "metadata": {},
   "outputs": [],
   "source": [
    "QUERY = \"user wants to login\""
   ]
  },
  {
   "cell_type": "code",
   "execution_count": 50,
   "id": "8bc28896-7384-426b-b95a-f3d41660e934",
   "metadata": {},
   "outputs": [
    {
     "name": "stdout",
     "output_type": "stream",
     "text": [
      "Context: 1 - Directs the user to the login page to authenticate and access the application. | 16 - Directs to the page for adding a new user to the system. | 9 - Takes the user to the user list page to view and manage user profiles. | 17 - Navigates to the user preview page to review user details before saving. | \n",
      "id=16 reasoning='Directs to the page for adding a new user to the system.'\n"
     ]
    }
   ],
   "source": [
    "response = graph.invoke({\"question\": QUERY})\n",
    "print(response[\"answer\"])"
   ]
  },
  {
   "cell_type": "code",
   "execution_count": null,
   "id": "35b24410-62b9-4f75-bb52-784eea7cd78f",
   "metadata": {},
   "outputs": [],
   "source": []
  }
 ],
 "metadata": {
  "kernelspec": {
   "display_name": "Python 3 (ipykernel)",
   "language": "python",
   "name": "python3"
  },
  "language_info": {
   "codemirror_mode": {
    "name": "ipython",
    "version": 3
   },
   "file_extension": ".py",
   "mimetype": "text/x-python",
   "name": "python",
   "nbconvert_exporter": "python",
   "pygments_lexer": "ipython3",
   "version": "3.10.5"
  }
 },
 "nbformat": 4,
 "nbformat_minor": 5
}
