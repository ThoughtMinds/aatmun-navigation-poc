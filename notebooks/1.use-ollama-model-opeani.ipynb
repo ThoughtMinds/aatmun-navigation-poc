{
 "cells": [
  {
   "cell_type": "markdown",
   "id": "81b1239b",
   "metadata": {},
   "source": [
    "# Using the model\n",
    "\n",
    "We will be using a Llama 3.1 1B model served on Ollama using the `langchain_openai` package by using their OpenAI compatible API"
   ]
  },
  {
   "cell_type": "code",
   "execution_count": 1,
   "id": "aa396ae3",
   "metadata": {},
   "outputs": [],
   "source": [
    "from langchain_openai import ChatOpenAI"
   ]
  },
  {
   "cell_type": "code",
   "execution_count": 2,
   "id": "0ad0b017",
   "metadata": {},
   "outputs": [],
   "source": [
    "llm = ChatOpenAI(api_key=\"ollama\", model=\"llama3.2:1b\", base_url=\"http://localhost:11434/v1\", temperature=0)"
   ]
  },
  {
   "cell_type": "code",
   "execution_count": 3,
   "id": "61802391-d7d9-443a-ae74-d946352e9284",
   "metadata": {},
   "outputs": [
    {
     "data": {
      "text/plain": [
       "AIMessage(content='Hello. Is there something I can help you with or would you like to chat?', additional_kwargs={'refusal': None}, response_metadata={'token_usage': {'completion_tokens': 18, 'prompt_tokens': 26, 'total_tokens': 44, 'completion_tokens_details': None, 'prompt_tokens_details': None}, 'model_name': 'llama3.2:1b', 'system_fingerprint': 'fp_ollama', 'id': 'chatcmpl-144', 'service_tier': None, 'finish_reason': 'stop', 'logprobs': None}, id='run--da31830b-922d-4007-a10c-127c3e3e2310-0', usage_metadata={'input_tokens': 26, 'output_tokens': 18, 'total_tokens': 44, 'input_token_details': {}, 'output_token_details': {}})"
      ]
     },
     "execution_count": 3,
     "metadata": {},
     "output_type": "execute_result"
    }
   ],
   "source": [
    "llm.invoke(\"Hi\")"
   ]
  },
  {
   "cell_type": "code",
   "execution_count": null,
   "id": "a88376f3-a1bf-4333-a855-fade132606da",
   "metadata": {},
   "outputs": [],
   "source": []
  }
 ],
 "metadata": {
  "kernelspec": {
   "display_name": "Python 3",
   "language": "python",
   "name": "python3"
  },
  "language_info": {
   "codemirror_mode": {
    "name": "ipython",
    "version": 3
   },
   "file_extension": ".py",
   "mimetype": "text/x-python",
   "name": "python",
   "nbconvert_exporter": "python",
   "pygments_lexer": "ipython3",
   "version": "3.12.3"
  }
 },
 "nbformat": 4,
 "nbformat_minor": 5
}
