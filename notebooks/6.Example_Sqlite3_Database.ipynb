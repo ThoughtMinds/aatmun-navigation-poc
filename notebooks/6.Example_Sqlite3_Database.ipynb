{
 "cells": [
  {
   "cell_type": "markdown",
   "id": "cf3a0bb7-245b-4ed4-aa13-9de5c6f9c902",
   "metadata": {},
   "source": [
    "### Connect to Database"
   ]
  },
  {
   "cell_type": "code",
   "execution_count": 1,
   "id": "5d394962-d606-4e66-a392-5f1a2fb5495e",
   "metadata": {},
   "outputs": [],
   "source": [
    "import sqlite3"
   ]
  },
  {
   "cell_type": "code",
   "execution_count": 2,
   "id": "3bab3b1d-4f0c-4ae3-84d9-d4ea437abeb2",
   "metadata": {},
   "outputs": [],
   "source": [
    "DB_PATH = \"../data/sqlite/sample/chinook.db\"\n",
    "\n",
    "con = sqlite3.connect(DB_PATH)"
   ]
  },
  {
   "cell_type": "code",
   "execution_count": 3,
   "id": "ef29e785-5323-446e-99ed-b9ad635770ec",
   "metadata": {},
   "outputs": [],
   "source": [
    "cur = con.cursor()"
   ]
  },
  {
   "cell_type": "markdown",
   "id": "0439a0b4-a5ef-4605-957d-6b4e598c9cc7",
   "metadata": {},
   "source": [
    "### Sample query"
   ]
  },
  {
   "cell_type": "code",
   "execution_count": 4,
   "id": "bce96100-eacb-43c6-8e73-f4eb982ca434",
   "metadata": {},
   "outputs": [
    {
     "data": {
      "text/plain": [
       "<sqlite3.Cursor at 0x7ff12b6625c0>"
      ]
     },
     "execution_count": 4,
     "metadata": {},
     "output_type": "execute_result"
    }
   ],
   "source": [
    "cur.execute(\"SELECT\t1 + 1;\")"
   ]
  },
  {
   "cell_type": "code",
   "execution_count": 5,
   "id": "72531b92-9991-474a-8128-dd6cf4de0005",
   "metadata": {},
   "outputs": [
    {
     "data": {
      "text/plain": [
       "(2,)"
      ]
     },
     "execution_count": 5,
     "metadata": {},
     "output_type": "execute_result"
    }
   ],
   "source": [
    "cur.fetchone()"
   ]
  },
  {
   "cell_type": "markdown",
   "id": "9632d95a-e91f-426b-b7f3-9519dfadbc88",
   "metadata": {},
   "source": [
    "### Basic SQL Queries"
   ]
  },
  {
   "cell_type": "code",
   "execution_count": 11,
   "id": "ea1d93b7-ed36-4b06-b520-d06e6e860872",
   "metadata": {},
   "outputs": [
    {
     "name": "stdout",
     "output_type": "stream",
     "text": [
      "albums\n",
      "sqlite_sequence\n",
      "artists\n",
      "customers\n",
      "employees\n",
      "genres\n",
      "invoices\n",
      "invoice_items\n",
      "media_types\n",
      "playlists\n",
      "playlist_track\n",
      "tracks\n",
      "sqlite_stat1\n"
     ]
    }
   ],
   "source": [
    "# See tables\n",
    "cur.execute(\"SELECT name FROM sqlite_master WHERE type='table';\")\n",
    "tables = cur.fetchall()\n",
    "for table in tables:\n",
    "    print(table[0])"
   ]
  },
  {
   "cell_type": "code",
   "execution_count": 17,
   "id": "97a067ee-e6fe-46c3-8e8e-85d8d3005249",
   "metadata": {},
   "outputs": [
    {
     "name": "stdout",
     "output_type": "stream",
     "text": [
      "Column: AlbumId, Type: INTEGER, Not Null: 1, Default: None, Primary Key: 1\n",
      "Column: Title, Type: NVARCHAR(160), Not Null: 1, Default: None, Primary Key: 0\n",
      "Column: ArtistId, Type: INTEGER, Not Null: 1, Default: None, Primary Key: 0\n"
     ]
    }
   ],
   "source": [
    "cur.execute(\"PRAGMA table_info(albums);\")\n",
    "columns = cur.fetchall()\n",
    "for col in columns:\n",
    "    print(f\"Column: {col[1]}, Type: {col[2]}, Not Null: {col[3]}, Default: {col[4]}, Primary Key: {col[5]}\")"
   ]
  },
  {
   "cell_type": "code",
   "execution_count": 21,
   "id": "b160d8ff-c143-4042-a447-0528d3d401fd",
   "metadata": {},
   "outputs": [
    {
     "name": "stdout",
     "output_type": "stream",
     "text": [
      "(1, 'For Those About To Rock We Salute You', 1)\n",
      "(2, 'Balls to the Wall', 2)\n",
      "(3, 'Restless and Wild', 2)\n"
     ]
    }
   ],
   "source": [
    "cur.execute(\"SELECT * FROM albums LIMIT 3;\")\n",
    "tables = cur.fetchall()\n",
    "for table in tables:\n",
    "    print(table)"
   ]
  },
  {
   "cell_type": "markdown",
   "id": "80a42e67-2c0b-459f-b726-821bdf64a20a",
   "metadata": {},
   "source": [
    "## Database Design"
   ]
  },
  {
   "cell_type": "code",
   "execution_count": 22,
   "id": "d30942f4-e5cb-48c0-b810-e634fd3412bc",
   "metadata": {},
   "outputs": [
    {
     "name": "stdout",
     "output_type": "stream",
     "text": [
      "\u001b[1mLoading .env environment variables\u001b[0m\u001b[1;33m...\u001b[0m\n",
      "To activate this project's virtualenv, run \u001b[33mpipenv shell\u001b[0m.\n",
      "Alternatively, run a command inside the virtualenv with \u001b[33mpipenv run\u001b[0m.\n",
      "\u001b[1;32mInstalling sqlmodel...\u001b[0m\n",
      "✔ Installation Succeeded\n",
      "To activate this project's virtualenv, run \u001b[33mpipenv shell\u001b[0m.\n",
      "Alternatively, run a command inside the virtualenv with \u001b[33mpipenv run\u001b[0m.\n",
      "\u001b[1mInstalling dependencies from Pipfile.lock \u001b[0m\u001b[1;39m(ed33c2)...\u001b[0m\n",
      "\u001b[32mAll dependencies are now up-to-date!\u001b[0m\n",
      "\u001b[1;32mUpgrading\u001b[0m sqlmodel in \u001b[39m dependencies.\u001b[0m\n",
      "\u001b[?25lBuilding requirements...\n",
      "\u001b[2KResolving dependencies....\n",
      "\u001b[2K✔ Success! Locking packages...\n",
      "\u001b[2K\u001b[32m⠧\u001b[0m Locking packages...\n",
      "\u001b[1A\u001b[2K\u001b[?25lBuilding requirements...\n",
      "\u001b[2KResolving dependencies....\n",
      "\u001b[2K✔ Success! Locking packages...\n",
      "\u001b[2K\u001b[32m⠼\u001b[0m Locking packages...\n",
      "\u001b[1A\u001b[2K\u001b[?25lBuilding requirements...\n",
      "\u001b[2KResolving dependencies....\n",
      "\u001b[2K✔ Success! Locking packages...\n",
      "\u001b[2K\u001b[32m⠹\u001b[0m Locking packages...\n",
      "\u001b[1A\u001b[2KTo activate this project's virtualenv, run \u001b[33mpipenv shell\u001b[0m.\n",
      "Alternatively, run a command inside the virtualenv with \u001b[33mpipenv run\u001b[0m.\n",
      "\u001b[1mInstalling dependencies from Pipfile.lock \u001b[0m\u001b[1;39m(372805)...\u001b[0m\n",
      "\u001b[32mAll dependencies are now up-to-date!\u001b[0m\n",
      "\u001b[1mInstalling dependencies from Pipfile.lock \u001b[0m\u001b[1;39m(372805)...\u001b[0m\n"
     ]
    }
   ],
   "source": [
    "!pipenv install sqlmodel && pip install -q sqlmodel"
   ]
  },
  {
   "cell_type": "markdown",
   "id": "4ca2383d-212b-455d-a89f-35915769c714",
   "metadata": {},
   "source": [
    "### Example"
   ]
  },
  {
   "cell_type": "code",
   "execution_count": 23,
   "id": "db9b3385-ae9e-4720-8892-a8d5cb02bd39",
   "metadata": {},
   "outputs": [],
   "source": [
    "from typing import Annotated\n",
    "\n",
    "from fastapi import Depends, FastAPI, HTTPException, Query\n",
    "from sqlmodel import Field, Session, SQLModel, create_engine, select\n",
    "\n",
    "\n",
    "class Hero(SQLModel, table=True):\n",
    "    id: int | None = Field(default=None, primary_key=True)\n",
    "    name: str = Field(index=True)\n",
    "    age: int | None = Field(default=None, index=True)\n",
    "    secret_name: str"
   ]
  },
  {
   "cell_type": "code",
   "execution_count": 26,
   "id": "450bbb24-7a41-4ef5-868d-59a0f6833b43",
   "metadata": {},
   "outputs": [],
   "source": [
    "EXAMPLE_PATH = '../data/sqlite/test/example.db'"
   ]
  },
  {
   "cell_type": "code",
   "execution_count": 27,
   "id": "40797475-2d2d-4999-beec-8d738e57194b",
   "metadata": {},
   "outputs": [],
   "source": [
    "sqlite_url = f\"sqlite:///{EXAMPLE_PATH}\""
   ]
  },
  {
   "cell_type": "code",
   "execution_count": 28,
   "id": "d9aa6ea1-e5e3-4745-90b1-7b0a1959753e",
   "metadata": {},
   "outputs": [],
   "source": [
    "connect_args = {\"check_same_thread\": False}\n",
    "engine = create_engine(sqlite_url, connect_args=connect_args)"
   ]
  },
  {
   "cell_type": "code",
   "execution_count": 29,
   "id": "b4545522-3024-4ff7-8f0d-dcf6d6c38ab6",
   "metadata": {},
   "outputs": [],
   "source": [
    "def create_db_and_tables():\n",
    "    SQLModel.metadata.create_all(engine)"
   ]
  },
  {
   "cell_type": "code",
   "execution_count": 39,
   "id": "e27cc558-e78b-4a5f-84b6-8708259b68e4",
   "metadata": {},
   "outputs": [],
   "source": [
    "create_db_and_tables()"
   ]
  },
  {
   "cell_type": "code",
   "execution_count": 40,
   "id": "c391cee0-2c76-4ed9-9283-07b309ac35d3",
   "metadata": {},
   "outputs": [],
   "source": [
    "def get_session():\n",
    "    with Session(engine) as session:\n",
    "        yield session"
   ]
  },
  {
   "cell_type": "code",
   "execution_count": 41,
   "id": "c636c794-a27c-4487-92a9-a993a1f43a08",
   "metadata": {},
   "outputs": [],
   "source": [
    "session = Session(engine)"
   ]
  },
  {
   "cell_type": "code",
   "execution_count": 42,
   "id": "6ee3a5d1-f665-41f0-8656-a048052a0fad",
   "metadata": {},
   "outputs": [],
   "source": [
    "first_hero = Hero(name=\"Abhinav\", age=25, secret_name=\"Hidden\")"
   ]
  },
  {
   "cell_type": "code",
   "execution_count": 43,
   "id": "0e630dcb-ba8f-4365-9859-2ffc9d585e41",
   "metadata": {},
   "outputs": [
    {
     "data": {
      "text/plain": [
       "Hero(name='Abhinav', age=25, secret_name='Hidden', id=1)"
      ]
     },
     "execution_count": 43,
     "metadata": {},
     "output_type": "execute_result"
    }
   ],
   "source": [
    "session.add(first_hero)\n",
    "session.commit()\n",
    "session.refresh(first_hero)\n",
    "first_hero"
   ]
  }
 ],
 "metadata": {
  "kernelspec": {
   "display_name": "Python 3 (ipykernel)",
   "language": "python",
   "name": "python3"
  },
  "language_info": {
   "codemirror_mode": {
    "name": "ipython",
    "version": 3
   },
   "file_extension": ".py",
   "mimetype": "text/x-python",
   "name": "python",
   "nbconvert_exporter": "python",
   "pygments_lexer": "ipython3",
   "version": "3.10.5"
  }
 },
 "nbformat": 4,
 "nbformat_minor": 5
}
