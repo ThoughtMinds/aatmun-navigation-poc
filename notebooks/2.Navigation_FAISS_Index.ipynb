{
 "cells": [
  {
   "cell_type": "code",
   "execution_count": null,
   "id": "a39f7278-a8c8-4856-b67d-dc6465bea95e",
   "metadata": {},
   "outputs": [],
   "source": [
    "# !pipenv install chromadb && pip install -q chromadb"
   ]
  },
  {
   "cell_type": "code",
   "execution_count": null,
   "id": "36b33b47-6bd1-4b49-a217-7b9129a4dfcd",
   "metadata": {},
   "outputs": [],
   "source": [
    "# !pipenv install langchain-chroma && pip install -q langchain-chroma"
   ]
  },
  {
   "cell_type": "code",
   "execution_count": 4,
   "id": "a6004044-8619-415a-a9b5-91c457609b3c",
   "metadata": {},
   "outputs": [],
   "source": [
    "%run 1.Ollama_Models.ipynb"
   ]
  },
  {
   "cell_type": "markdown",
   "id": "6abd15ee-741e-4d49-9a2f-8715312d3bf8",
   "metadata": {},
   "source": [
    "## Load Navigation Intents"
   ]
  },
  {
   "cell_type": "code",
   "execution_count": 30,
   "id": "042a5bfe-f818-46c8-a98e-f81fdf2404a1",
   "metadata": {},
   "outputs": [],
   "source": [
    "from json import load"
   ]
  },
  {
   "cell_type": "code",
   "execution_count": 31,
   "id": "35b0731d-9e62-475b-b5d1-93d03bb9c323",
   "metadata": {},
   "outputs": [],
   "source": [
    "with open(\"./data/navigation/navigation_intents.json\") as f:\n",
    "    intents = load(f)"
   ]
  },
  {
   "cell_type": "code",
   "execution_count": 32,
   "id": "625070c3-f2b7-4db3-b119-6df68fed9eaf",
   "metadata": {},
   "outputs": [
    {
     "data": {
      "text/plain": [
       "{'intent': 'navigate_to_login_page',\n",
       " 'description': 'Directs the user to the login page to authenticate and access the application.',\n",
       " 'parameters': {'app_id': 'integer'},\n",
       " 'required': ['app_id'],\n",
       " 'responses': {'web': 'https://qa.sim.guardhat.com/login_page',\n",
       "  'android': 'ActivityLogin',\n",
       "  'ios': 'ActivityLogin'}}"
      ]
     },
     "execution_count": 32,
     "metadata": {},
     "output_type": "execute_result"
    }
   ],
   "source": [
    "intents[0]"
   ]
  },
  {
   "cell_type": "code",
   "execution_count": 33,
   "id": "d08a381b-586f-4471-8d05-b30803b1a768",
   "metadata": {},
   "outputs": [
    {
     "data": {
      "text/plain": [
       "{'intent': 'navigate_to_form_listing',\n",
       " 'description': 'Navigates to the form list screen to view available forms for execution.',\n",
       " 'parameters': {'app_id': 'integer'},\n",
       " 'required': ['app_id'],\n",
       " 'responses': {'web': 'https://qa.sim.guardhat.com/form_listing_view',\n",
       "  'android': 'ActivityFormListing',\n",
       "  'ios': 'ActivityFormListing'}}"
      ]
     },
     "execution_count": 33,
     "metadata": {},
     "output_type": "execute_result"
    }
   ],
   "source": [
    "intents[-1]"
   ]
  },
  {
   "cell_type": "markdown",
   "id": "8079450f-cd40-4227-bb29-c6326d1bee16",
   "metadata": {},
   "source": [
    "## Create Chroma Index"
   ]
  },
  {
   "cell_type": "code",
   "execution_count": 34,
   "id": "7a8e8310-b356-47f0-a94d-edde20288c66",
   "metadata": {},
   "outputs": [],
   "source": [
    "from langchain_chroma import Chroma"
   ]
  },
  {
   "cell_type": "code",
   "execution_count": 35,
   "id": "e090c8ff-17b7-4e3d-b9eb-6746beb92402",
   "metadata": {},
   "outputs": [],
   "source": [
    "from langchain_core.documents import Document"
   ]
  },
  {
   "cell_type": "code",
   "execution_count": 36,
   "id": "fd3db767-c8bf-4b5c-a074-ae6cc381070e",
   "metadata": {},
   "outputs": [],
   "source": [
    "PERSIST_DIRECTORY = \"./data/vector_db/chroma/\""
   ]
  },
  {
   "cell_type": "code",
   "execution_count": 37,
   "id": "582ded78-0e95-4f7a-822f-8660794d23d6",
   "metadata": {},
   "outputs": [],
   "source": [
    "documents = []\n",
    "\n",
    "for index, item in enumerate(intents, start=1):\n",
    "    doc = Document(page_content=item[\"description\"], metadata={\"id\": index})\n",
    "    documents.append(doc)"
   ]
  },
  {
   "cell_type": "code",
   "execution_count": 38,
   "id": "cb543ecf-5cf5-4159-a12d-66d8eba926e4",
   "metadata": {},
   "outputs": [
    {
     "data": {
      "text/plain": [
       "True"
      ]
     },
     "execution_count": 38,
     "metadata": {},
     "output_type": "execute_result"
    }
   ],
   "source": [
    "len(intents) == len(documents)"
   ]
  },
  {
   "cell_type": "markdown",
   "id": "85492b85-51ec-46f0-bd5f-09d9be231bf2",
   "metadata": {},
   "source": [
    "## Load / Create Vector DB"
   ]
  },
  {
   "cell_type": "code",
   "execution_count": 39,
   "id": "0ae5b8a1-a997-40d9-a724-15cd7a17041f",
   "metadata": {},
   "outputs": [],
   "source": [
    "try:\n",
    "    vectordb = Chroma(persist_directory=PERSIST_DIRECTORY, embedding_function=embeddings)\n",
    "except:\n",
    "    vectordb = Chroma.from_documents(documents=documents, embedding=embeddings, persist_directory=PERSIST_DIRECTORY)"
   ]
  },
  {
   "cell_type": "markdown",
   "id": "8738d0e3-3c78-48bd-acbd-4ae34e538703",
   "metadata": {},
   "source": [
    "### Test Retrieval"
   ]
  },
  {
   "cell_type": "code",
   "execution_count": 40,
   "id": "81e8630f-8e9c-4e27-9d82-159558f0aaa2",
   "metadata": {},
   "outputs": [],
   "source": [
    "retriever = vectordb.as_retriever()"
   ]
  },
  {
   "cell_type": "code",
   "execution_count": 41,
   "id": "e13468dc-a000-4d12-a28c-f42a61a7ba1a",
   "metadata": {},
   "outputs": [
    {
     "data": {
      "text/plain": [
       "[Document(id='55a7fa1f-5523-44a7-b5b4-4cf306e4870a', metadata={'id': 38}, page_content='Navigates to the search worker screen for assigning workers to areas or products.'),\n",
       " Document(id='ef52f546-d968-40b3-b8c2-42258a91037a', metadata={'id': 5}, page_content='Navigates to a detailed view of a specific worker or event, including relevant metadata.'),\n",
       " Document(id='701520de-23ba-47b4-8149-96fbb11a81e7', metadata={'id': 15}, page_content='Takes the user to the user or product search screen to find specific entities.'),\n",
       " Document(id='6f6b8290-1de3-49e6-85e7-9117b2db5ca8', metadata={'id': 22}, page_content='Directs to the user or product filter screen to refine search results.')]"
      ]
     },
     "execution_count": 41,
     "metadata": {},
     "output_type": "execute_result"
    }
   ],
   "source": [
    "retriever.invoke(\"how do I access search worker?\")"
   ]
  }
 ],
 "metadata": {
  "kernelspec": {
   "display_name": "Python 3 (ipykernel)",
   "language": "python",
   "name": "python3"
  },
  "language_info": {
   "codemirror_mode": {
    "name": "ipython",
    "version": 3
   },
   "file_extension": ".py",
   "mimetype": "text/x-python",
   "name": "python",
   "nbconvert_exporter": "python",
   "pygments_lexer": "ipython3",
   "version": "3.10.5"
  }
 },
 "nbformat": 4,
 "nbformat_minor": 5
}
