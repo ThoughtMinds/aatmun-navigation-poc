{
 "cells": [
  {
   "cell_type": "code",
   "execution_count": 18,
   "id": "829da226-99bb-48d8-9b3b-cbd7c5e8dd97",
   "metadata": {},
   "outputs": [],
   "source": [
    "%run 2.tool-calling.ipynb"
   ]
  },
  {
   "cell_type": "markdown",
   "id": "0cbff10d-5353-4cde-979a-6d076a34c03f",
   "metadata": {},
   "source": [
    "# Create Simple Graph"
   ]
  },
  {
   "cell_type": "code",
   "execution_count": 19,
   "id": "4459e3d2-02df-4a6f-a8f6-fc40ec84edd0",
   "metadata": {},
   "outputs": [],
   "source": [
    "from langgraph.graph import StateGraph, START, END"
   ]
  },
  {
   "cell_type": "code",
   "execution_count": 20,
   "id": "59221f3f-76fc-4af8-94fe-8e9c8a943f7c",
   "metadata": {},
   "outputs": [],
   "source": [
    "from langgraph.graph.message import add_messages\n",
    "from typing import Annotated\n",
    "from typing_extensions import TypedDict\n",
    "\n",
    "\n",
    "class State(TypedDict):\n",
    "    messages: Annotated[list, add_messages]"
   ]
  },
  {
   "cell_type": "code",
   "execution_count": 21,
   "id": "1d5cf02a-b879-42a9-aa13-5770b81268c7",
   "metadata": {},
   "outputs": [],
   "source": [
    "tool_list = [search]"
   ]
  },
  {
   "cell_type": "code",
   "execution_count": 22,
   "id": "4d13ce53-a097-44a4-b226-069c101d31ff",
   "metadata": {},
   "outputs": [],
   "source": [
    "from langchain_core.messages import ToolMessage\n",
    "\n",
    "\n",
    "class BasicToolNode:\n",
    "    \"\"\"A node that runs the tools requested in the last AIMessage.\"\"\"\n",
    "\n",
    "    def __init__(self, tools: list) -> None:\n",
    "        self.tools_by_name = {tool.name: tool for tool in tools}\n",
    "\n",
    "    def __call__(self, inputs: dict):\n",
    "        if messages := inputs.get(\"messages\", []):\n",
    "            message = messages[-1]\n",
    "        else:\n",
    "            raise ValueError(\"No message found in input\")\n",
    "        outputs = []\n",
    "        for tool_call in message.tool_calls:\n",
    "            tool_name = tool_call[\"name\"]\n",
    "            tool_args = tool_call[\"args\"]\n",
    "            tool_call_id = tool_call[\"id\"]\n",
    "            tool_result = self.tools_by_name[tool_name].invoke(tool_args)\n",
    "            outputs.append(\n",
    "                ToolMessage(\n",
    "                    content=json.dumps(tool_result),\n",
    "                    name=tool_name,\n",
    "                    tool_call_id=tool_call_id,\n",
    "                )\n",
    "            )\n",
    "        return {\"messages\": outputs}\n",
    "\n",
    "\n",
    "def route_tools(\n",
    "    state: State,\n",
    "):\n",
    "    \"\"\"\n",
    "    Use in the conditional_edge to route to the ToolNode if the last message\n",
    "    has tool calls. Otherwise, route to the end.\n",
    "    \"\"\"\n",
    "    if isinstance(state, list):\n",
    "        ai_message = state[-1]\n",
    "    elif messages := state.get(\"messages\", []):\n",
    "        ai_message = messages[-1]\n",
    "    else:\n",
    "        raise ValueError(f\"No messages found in input state to tool_edge: {state}\")\n",
    "    if hasattr(ai_message, \"tool_calls\") and len(ai_message.tool_calls) > 0:\n",
    "        return \"tools\"\n",
    "    return END\n"
   ]
  },
  {
   "cell_type": "code",
   "execution_count": 23,
   "id": "8200388a-b251-4db4-b0f7-b41080cd5b5c",
   "metadata": {},
   "outputs": [],
   "source": [
    "graph_builder = StateGraph(State)\n",
    "\n",
    "def chatbot(state: State):\n",
    "    return {\"messages\": [llm_with_tools.invoke(state[\"messages\"])]}\n",
    "\n",
    "graph_builder.add_node(\"chatbot\", chatbot)\n",
    "\n",
    "tool_node = BasicToolNode(tools=tool_list)\n",
    "graph_builder.add_node(\"tools\", tool_node)\n",
    "\n",
    "graph_builder.add_conditional_edges(\n",
    "    \"chatbot\",\n",
    "    route_tools,\n",
    "    {\"tools\": \"tools\", END: END},\n",
    ")\n",
    "\n",
    "graph_builder.add_edge(\"tools\", \"chatbot\")\n",
    "graph_builder.add_edge(START, \"chatbot\")\n",
    "\n",
    "\n",
    "graph = graph_builder.compile()"
   ]
  },
  {
   "cell_type": "markdown",
   "id": "72aa657b-96fb-497a-95d9-5981e7b65b20",
   "metadata": {},
   "source": [
    "### See it in action"
   ]
  },
  {
   "cell_type": "code",
   "execution_count": 33,
   "id": "261c690b-db1e-4088-b777-c47d5ff67334",
   "metadata": {},
   "outputs": [
    {
     "name": "stdin",
     "output_type": "stream",
     "text": [
      "[User]:  What are the main categories and functions of the eight parts of speech in English grammar?\n"
     ]
    },
    {
     "name": "stdout",
     "output_type": "stream",
     "text": [
      "Tool usage:\n",
      "call_1omae8o8 | duckduckgo_search | {'query': 'English grammar parts of speech'}\n",
      "Tool output:\n",
      "call_1omae8o8 | 4d4c3307-3adc-48e8-a93a-7de42f35a68c | duckduckgo_search | \"The eight parts of speech are nouns, pronouns, adjectives, verbs, adverbs, prepositions, conjunctions, and interjections. Most words in English can be classified as one of these eight parts of speech, although some, like determiners, are categorized separately in modern grammar. The term part of speech refers to a word's role in a sentence. Parts of Speech English Grammar The parts of speech explain how a word is used in a sentence. There are eight main parts of speech (also known as word classes): nouns, pronouns, adjectives, verbs, adverbs, prepositions, conjunctions and interjections. Most parts of speech can be divided into sub-classes. What is a Parts of Speech? A part of speech is a category that describes the role a word plays in a sentence. These roles help you understand how words function in grammar. There are typically eight main parts of speech in English: Nouns: Words that name people, places, things, or ideas. Pronouns: Words that replace nouns, such as he, she, it. Part\n",
      "Message output:\n",
      "The eight parts of speech in English grammar are:\n",
      "1. Nouns: Words that name people, places, things, or ideas.\n",
      "2. Pronouns: Words that replace nouns, such as he, she, it.\n",
      "3. Adjectives: Words that describe or modify nouns or pronouns.\n",
      "4. Verbs: Words that express actions, events, or states of being.\n",
      "5. Adverbs: Words that describe or modify verbs, adjectives, or other adverbs.\n",
      "6. Prepositions: Words that show the relationship between a noun or pronoun and other words in a sentence.\n",
      "7. Conjunctions: Words that connect words, phrases, or clauses in a sentence.\n",
      "8. Interjections: Words that express emotion or feeling, such as \"oh,\" \"wow,\" or \"ouch.\"\n"
     ]
    }
   ],
   "source": [
    "from uuid import uuid4\n",
    "from sys import exit\n",
    "from langgraph.types import Command\n",
    "import json\n",
    "\n",
    "\n",
    "user_id = uuid4().hex\n",
    "\n",
    "config = {\"configurable\": {\"thread_id\": user_id}}\n",
    "# TODO: Other metadata?\n",
    "\n",
    "\n",
    "try:\n",
    "    user_input = input(\"[User]: \")\n",
    "\n",
    "    for event in graph.stream(\n",
    "        {\"messages\": [{\"role\": \"user\", \"content\": user_input}]}, config=config\n",
    "    ):\n",
    "        \n",
    "        # Check for interrupt\n",
    "        if \"__interrupt__\" in event:\n",
    "            interrupt_obj = event[\"__interrupt__\"][0]\n",
    "            # Usually a list with one Interrupt\n",
    "            prompt = interrupt_obj.value  # The payload sent to human\n",
    "            user_query = prompt[\"query\"]\n",
    "            print(f\"[System]: [User] asks {user_query}\")\n",
    "\n",
    "            # Get human input to resume\n",
    "            human_response = input(\"[Support]: \")\n",
    "\n",
    "            # Resume the graph with human input\n",
    "            resume_events = graph.stream(Command(resume=human_response), config=config)\n",
    "            for resume_event in resume_events:\n",
    "                # Process resumed events (messages, tools, etc.)\n",
    "                print(resume_event)\n",
    "            break  # Exit current event loop to wait for next user input\n",
    "\n",
    "        # Handle chatbot node (tool calls and messages)\n",
    "        if \"chatbot\" in event:\n",
    "            for message in event[\"chatbot\"][\"messages\"]:\n",
    "                # Check for tool calls\n",
    "                if hasattr(message, \"tool_calls\") and message.tool_calls:\n",
    "                    print(\"Tool usage:\")\n",
    "                    for tool_call in message.tool_calls:\n",
    "                        tool_name = tool_call[\"name\"]\n",
    "                        tool_args = tool_call[\"args\"]\n",
    "                        tool_id = tool_call[\"id\"]\n",
    "                        print(f\"{tool_id} | {tool_name} | {tool_args}\")\n",
    "                # Print chatbot message content if no tool calls\n",
    "                elif message.content:\n",
    "                    print(\"Message output:\")\n",
    "                    print(message.content)\n",
    "\n",
    "        # Handle tools node (tool execution results)\n",
    "        if \"tools\" in event:\n",
    "            for message in event[\"tools\"][\"messages\"]:\n",
    "                print(\"Tool output:\")\n",
    "                tool_call_id = message.tool_call_id\n",
    "                message_id = message.id\n",
    "                tool_name = message.name\n",
    "                content_preview = message.content[\n",
    "                    :1000\n",
    "                ]  # Limit content to 100 characters\n",
    "                print(\n",
    "                    f\"{tool_call_id} | {message_id} | {tool_name} | {content_preview}\"\n",
    "                )\n",
    "except KeyboardInterrupt:\n",
    "    print(\"Exiting...\")\n",
    "    exit(0)\n"
   ]
  }
 ],
 "metadata": {
  "kernelspec": {
   "display_name": "Python 3 (ipykernel)",
   "language": "python",
   "name": "python3"
  },
  "language_info": {
   "codemirror_mode": {
    "name": "ipython",
    "version": 3
   },
   "file_extension": ".py",
   "mimetype": "text/x-python",
   "name": "python",
   "nbconvert_exporter": "python",
   "pygments_lexer": "ipython3",
   "version": "3.10.5"
  }
 },
 "nbformat": 4,
 "nbformat_minor": 5
}
