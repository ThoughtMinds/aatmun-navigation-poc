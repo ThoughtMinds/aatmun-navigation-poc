{
 "cells": [
  {
   "cell_type": "markdown",
   "id": "cab5f3a2-8d13-4258-9de5-71f491506b62",
   "metadata": {},
   "source": [
    "# Tool Calling"
   ]
  },
  {
   "cell_type": "code",
   "execution_count": 2,
   "id": "7fafebb5-876a-438f-83c8-97d4fe812c3c",
   "metadata": {},
   "outputs": [],
   "source": [
    "%run 1.use-ollama-model-opeani.ipynb"
   ]
  },
  {
   "cell_type": "code",
   "execution_count": null,
   "id": "bb19bc99-17c9-4c04-b113-4a929bbe27d1",
   "metadata": {},
   "outputs": [],
   "source": [
    "type(llm)"
   ]
  },
  {
   "cell_type": "markdown",
   "id": "296e04de-7eb5-4317-93d5-72fee02d2f34",
   "metadata": {},
   "source": [
    "### Define Tool"
   ]
  },
  {
   "cell_type": "code",
   "execution_count": 4,
   "id": "74f67173-dae3-4280-bf31-77f64a7de1da",
   "metadata": {},
   "outputs": [],
   "source": [
    "from langchain_community.tools import DuckDuckGoSearchRun"
   ]
  },
  {
   "cell_type": "code",
   "execution_count": 5,
   "id": "6af39552-2b8e-4938-81e3-41848b95a5b3",
   "metadata": {},
   "outputs": [
    {
     "data": {
      "text/plain": [
       "'Barack Obama, the 44th President of the United States, broke barriers as the first African-American president and implemented significant healthcare reforms during his tenure. List of presidents of the United StatesThe White House, official residence of the president of the United States The president of the United States is the head of state and head of government of the United States, [1] indirectly elected to a four-year term via the Electoral College. [2] Under the U.S. Constitution, the officeholder leads the executive branch of the federal government and is ... Other Facts The name Barack means \"one who is blessed\" in Swahili. Is the first African-American to be president of the Harvard Law Review. Nominated for three Grammy Awards, and won two ... Barack Obama is a name that resonates globally, but how much do you really know about him? Born on August 4, 1961, in Honolulu, Hawaii, he made history as the first African American President of the United States. Learn about Barack Obama\\'s ancestry. His African roots stretch back for generations in Kenya, while his American roots connect to Jefferson Davis.'"
      ]
     },
     "execution_count": 5,
     "metadata": {},
     "output_type": "execute_result"
    }
   ],
   "source": [
    "search = DuckDuckGoSearchRun()\n",
    "\n",
    "search.invoke(\"Obama's first name?\")"
   ]
  },
  {
   "cell_type": "markdown",
   "id": "b0b5ff24-5cd2-4dd9-bb60-283633714ed4",
   "metadata": {},
   "source": [
    "### Add Tool to LLm"
   ]
  },
  {
   "cell_type": "code",
   "execution_count": 6,
   "id": "a4dca968-b6e8-4807-96dc-49a1fcd32808",
   "metadata": {},
   "outputs": [],
   "source": [
    "llm_with_tools = llm.bind_tools([search])"
   ]
  },
  {
   "cell_type": "code",
   "execution_count": 10,
   "id": "b2b0f40e-0fa0-49b6-9bcc-330c347de7dc",
   "metadata": {},
   "outputs": [
    {
     "data": {
      "text/plain": [
       "AIMessage(content='', additional_kwargs={'tool_calls': [{'id': 'call_76f9yey3', 'function': {'arguments': '{\"query\":\"Barack Obama\"}', 'name': 'duckduckgo_search'}, 'type': 'function', 'index': 0}], 'refusal': None}, response_metadata={'token_usage': {'completion_tokens': 21, 'prompt_tokens': 186, 'total_tokens': 207, 'completion_tokens_details': None, 'prompt_tokens_details': None}, 'model_name': 'llama3.2:1b', 'system_fingerprint': 'fp_ollama', 'id': 'chatcmpl-32', 'service_tier': None, 'finish_reason': 'tool_calls', 'logprobs': None}, id='run--31ac565a-3fae-4c82-b775-550896d02ea7-0', tool_calls=[{'name': 'duckduckgo_search', 'args': {'query': 'Barack Obama'}, 'id': 'call_76f9yey3', 'type': 'tool_call'}], usage_metadata={'input_tokens': 186, 'output_tokens': 21, 'total_tokens': 207, 'input_token_details': {}, 'output_token_details': {}})"
      ]
     },
     "execution_count": 10,
     "metadata": {},
     "output_type": "execute_result"
    }
   ],
   "source": [
    "llm_with_tools.invoke(\"Look up Obama's first name\")"
   ]
  }
 ],
 "metadata": {
  "kernelspec": {
   "display_name": "Python 3 (ipykernel)",
   "language": "python",
   "name": "python3"
  },
  "language_info": {
   "codemirror_mode": {
    "name": "ipython",
    "version": 3
   },
   "file_extension": ".py",
   "mimetype": "text/x-python",
   "name": "python",
   "nbconvert_exporter": "python",
   "pygments_lexer": "ipython3",
   "version": "3.10.5"
  }
 },
 "nbformat": 4,
 "nbformat_minor": 5
}
